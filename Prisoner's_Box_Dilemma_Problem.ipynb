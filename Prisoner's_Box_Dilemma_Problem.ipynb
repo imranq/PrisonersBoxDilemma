{
  "nbformat": 4,
  "nbformat_minor": 0,
  "metadata": {
    "colab": {
      "name": "Prisoner's Box Dilemma Problem",
      "provenance": [],
      "collapsed_sections": [],
      "authorship_tag": "ABX9TyN3T+IDdsTR+TV9Nex+dOBb",
      "include_colab_link": true
    },
    "kernelspec": {
      "name": "python3",
      "display_name": "Python 3"
    },
    "language_info": {
      "name": "python"
    }
  },
  "cells": [
    {
      "cell_type": "markdown",
      "metadata": {
        "id": "view-in-github",
        "colab_type": "text"
      },
      "source": [
        "<a href=\"https://colab.research.google.com/github/imranq/PrisonersBoxDilemma/blob/main/Prisoner's_Box_Dilemma_Problem.ipynb\" target=\"_parent\"><img src=\"https://colab.research.google.com/assets/colab-badge.svg\" alt=\"Open In Colab\"/></a>"
      ]
    },
    {
      "cell_type": "markdown",
      "source": [
        "### Prisoner's Dilemma Problem\n",
        "\n",
        "There is a prison that holds 100 prisons, each labelled 1 to 100. Furthermore, there is a room of boxes with each box labelled from 1 to 100.\n",
        "\n",
        "These prisoners will be summarily executed except for one strange rule: that each prisoner finds a box with their own number on it. However there are conditions:\n",
        "* Prisoners can coordinate only once before this procedure beings\n",
        "* Each prisoner must leave the box room exactly how they found it. I.e each box is completely closed\n",
        "* Prisoners are sent in one at a time\n",
        "* Each prisoner can check at most 50 boxes\n",
        "\n",
        "\n",
        "### Strategy\n",
        "\n",
        "Each prisoner starts by opening up the box with their own number on it. So prisoner A opens box A. If box A contains B, and B $\\neq$ A, then open box B and so on until the number is found.\n",
        "\n",
        "This colab will show that the probability for this strategy succeeding is 31%. And furthermore, this is the strategy with the highest chance of succeeding\n",
        "\n"
      ],
      "metadata": {
        "id": "zJV3TW6nh5TM"
      }
    },
    {
      "cell_type": "code",
      "execution_count": null,
      "metadata": {
        "id": "6bHEx7LTh2Ek"
      },
      "outputs": [],
      "source": [
        "# get closed loops, if any loop is > 50 then lose, otherwise win\n",
        "\n",
        "import numpy as np\n",
        "import random \n",
        "\n",
        "def run_trials(num_trials):\n",
        "  successes = 0\n",
        "  for x in range(0,num_trials):\n",
        "    successes += run_trial()\n",
        "  \n",
        "  print(successes)\n",
        "  print(successes / num_trials)\n",
        "  pass\n",
        "\n",
        "\n",
        "def run_trial():\n",
        "  num = 100\n",
        "  boxes = list(range(0,num))\n",
        "  random.shuffle(boxes)\n",
        "  loops = []\n",
        "  box_to_loop = {}\n",
        "  for x in range(0, num):\n",
        "    if x not in box_to_loop:\n",
        "      new_loop = [boxes[x]]\n",
        "      box_to_loop[x] = len(loops)\n",
        "      if boxes[x] != x:\n",
        "        new_loop.append(boxes[new_loop[-1]])\n",
        "        while new_loop[-1] != new_loop[0]:\n",
        "          new_loop.append(boxes[new_loop[-1]])\n",
        "          box_to_loop[boxes[new_loop[-1]]] = len(loops)\n",
        "      loops.append(new_loop)    \n",
        "\n",
        "  # print(np.array(boxes))\n",
        "  # print(np.array(loops))\n",
        "  loop_lengths = ([len(x) for x in loops])\n",
        "\n",
        "  # print(loop_lengths)\n",
        "  result = 1\n",
        "\n",
        "  for x in loop_lengths:\n",
        "    if x > num / 2:\n",
        "      result = 0\n",
        "\n",
        "  return result"
      ]
    },
    {
      "cell_type": "code",
      "source": [
        "print(run_trials(100000))"
      ],
      "metadata": {
        "colab": {
          "base_uri": "https://localhost:8080/"
        },
        "id": "JnAMiWC2o6g4",
        "outputId": "32d2d3c1-474e-4a53-b9c8-8b87ecbb5fe8"
      },
      "execution_count": null,
      "outputs": [
        {
          "output_type": "stream",
          "name": "stdout",
          "text": [
            "29203\n",
            "0.29203\n",
            "None\n"
          ]
        }
      ]
    }
  ]
}